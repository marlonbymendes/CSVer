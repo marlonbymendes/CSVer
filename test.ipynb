{
 "cells": [
  {
   "cell_type": "code",
   "execution_count": 1,
   "metadata": {
    "collapsed": true
   },
   "outputs": [
    {
     "ename": "AttributeError",
     "evalue": "'Plotter' object has no attribute 'plot_y_axis_along_time'",
     "traceback": [
      "\u001b[0;31m---------------------------------------------------------------------------\u001b[0m",
      "\u001b[0;31mAttributeError\u001b[0m                            Traceback (most recent call last)",
      "\u001b[0;32m<ipython-input-1-800a59b186c5>\u001b[0m in \u001b[0;36m<module>\u001b[0;34m()\u001b[0m\n\u001b[1;32m     73\u001b[0m \u001b[0mplotter\u001b[0m \u001b[0;34m=\u001b[0m \u001b[0mPlotter\u001b[0m\u001b[0;34m(\u001b[0m\u001b[0;34m)\u001b[0m\u001b[0;34m\u001b[0m\u001b[0m\n\u001b[1;32m     74\u001b[0m \u001b[0marr\u001b[0m \u001b[0;34m=\u001b[0m \u001b[0mplotter\u001b[0m\u001b[0;34m.\u001b[0m\u001b[0mget_date_axis_from_array\u001b[0m\u001b[0;34m(\u001b[0m\u001b[0mx\u001b[0m\u001b[0;34m)\u001b[0m\u001b[0;34m\u001b[0m\u001b[0m\n\u001b[0;32m---> 75\u001b[0;31m plotter.plot_y_axis_along_time(arr, y, 'Data', 'ValorUnitarioSolicitado',\n\u001b[0m\u001b[1;32m     76\u001b[0m                                item)\n",
      "\u001b[0;31mAttributeError\u001b[0m: 'Plotter' object has no attribute 'plot_y_axis_along_time'"
     ],
     "output_type": "error"
    }
   ],
   "source": [
    "import matplotlib\n",
    "import matplotlib.pyplot as plt\n",
    "from IPython.display import display\n",
    "\n",
    "from csver import CSVer\n",
    "from datetime import datetime\n",
    "\n",
    "from IPython.display import display\n",
    "\n",
    "class Plotter:\n",
    "\n",
    "    def plot_histogram(self, y_axis, x_label = '', y_label = '', title = ''):\n",
    "        fig = plt.figure()\n",
    "        ax = fig.add_subplot(1,1,1)\n",
    "        self.set_plot_style(x_label, y_label, title)\n",
    "        \n",
    "        result = plt.hist(y_axis, bins = 'fd', color = 'blue',\n",
    "                          edgecolor = 'black', alpha = .75)\n",
    "        return result\n",
    "    \n",
    "    def set_plot_style(self, x_label, y_label, title):\n",
    "        plt.xlabel(x_label)\n",
    "        plt.ylabel(y_label)\n",
    "        plt.title(title)\n",
    "    \n",
    "    def get_date_axis_from_array(self, dates):\n",
    "        dates_date_time = [datetime.strptime(d, CSVer.DATE_INPUT_FORMAT) for d in dates]\n",
    "        dates_axis = matplotlib.dates.date2num(dates_date_time)\n",
    "        return dates_axis\n",
    "        \n",
    "    def plot_scatter(self, x_axis, y_axis, subplot = 111, x_label = '',\n",
    "                               y_label = '', title = ''):\n",
    "        hfmt = matplotlib.dates.DateFormatter(CSVer.DATE_GRAPH_FORMAT)\n",
    "        fig = plt.figure()\n",
    "        ax = fig.add_subplot(subplot)\n",
    "        ax.xaxis.set_major_formatter(hfmt)\n",
    "        plt.setp(ax.get_xticklabels(), rotation=15)\n",
    "        plt.scatter(x_axis, y_axis, s = 50, c = 'blue', alpha = 0.25)\n",
    "        plt.xlabel(x_label)\n",
    "        plt.ylabel(y_label)\n",
    "        plt.title(title)\n",
    "\n",
    "        ax = fig.add_subplot(1,2,2)\n",
    "        ax.xaxis.set_major_formatter(hfmt)\n",
    "        plt.setp(ax.get_xticklabels(), rotation=15)\n",
    "        plt.semilogy(x_axis, y_axis, '.')\n",
    "        plt.xlabel(x_label)\n",
    "        plt.ylabel(y_label)\n",
    "        plt.title(title)\n",
    "        \n",
    "    \n",
    "    def plot_log(self, x_axis, y_axis, subplot = 111, x_label = '',\n",
    "                               y_label = '', title = ''):\n",
    "        ax = fig.add_subplot(subplot)\n",
    "        ax.xaxis.set_major_formatter(hfmt)\n",
    "        plt.setp(ax.get_xticklabels(), rotation=15)\n",
    "        plt.semilogy(x_axis, y_axis, '.')\n",
    "        plt.xlabel(x_label)\n",
    "        plt.ylabel(y_label)\n",
    "        plt.title(title)\n",
    "        \n",
    "    def show(self):\n",
    "        plt.show()\n",
    "        \n",
    "approved = 'aprovado_small.csv'\n",
    "csvs = [approved]\n",
    "\n",
    "csver = CSVer(csvs)\n",
    "item = csver.get_random_item('Item')\n",
    "dt = csver.filter_column_by_value('Item', item)\n",
    "x, y = csver.get_x_y('Data', 'ValorUnitarioAprovado', ('Item', item))\n",
    "\n",
    "plotter = Plotter()\n",
    "arr = plotter.get_date_axis_from_array(x)\n",
    "plotter.plot_y_axis_along_time(arr, y, 'Data', 'ValorUnitarioSolicitado',\n",
    "                               item)"
   ]
  }
 ],
 "metadata": {
  "kernelspec": {
   "display_name": "Python 2",
   "language": "python",
   "name": "python2"
  },
  "language_info": {
   "codemirror_mode": {
    "name": "ipython",
    "version": 2
   },
   "file_extension": ".py",
   "mimetype": "text/x-python",
   "name": "python",
   "nbconvert_exporter": "python",
   "pygments_lexer": "ipython2",
   "version": "2.7.6"
  }
 },
 "nbformat": 4,
 "nbformat_minor": 0
}
