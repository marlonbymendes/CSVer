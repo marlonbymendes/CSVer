{
 "cells": [
  {
   "cell_type": "code",
   "execution_count": 9,
   "metadata": {},
   "outputs": [
    {
     "name": "stdout",
     "output_type": "stream",
     "text": [
      "[  8  75 -99 -18  -6  27  44  18 -53   3   2 -85  83 -11 -94]\n",
      "[1 1 0 0 1 1 1 1 1 1 0 0 1 1 1]\n",
      "[  8  75  -6  27  44  18 -53   3  83 -11 -94]\n",
      "[-99 -18   2 -85]\n"
     ]
    }
   ],
   "source": [
    "from random import randint\n",
    "import numpy as np\n",
    "\n",
    "a = np.array([randint(-100, 100) for x in range(15)])\n",
    "b = np.array([randint(0, 1) for x in range(15)])\n",
    "\n",
    "print(a)\n",
    "print(b)\n",
    "\n",
    "c = a[b == 1]\n",
    "d = a[b == 0]\n",
    "\n",
    "print(c)\n",
    "print(d)"
   ]
  }
 ],
 "metadata": {
  "kernelspec": {
   "display_name": "Python 2",
   "language": "python",
   "name": "python2"
  },
  "language_info": {
   "codemirror_mode": {
    "name": "ipython",
    "version": 3
   },
   "file_extension": ".py",
   "mimetype": "text/x-python",
   "name": "python",
   "nbconvert_exporter": "python",
   "pygments_lexer": "ipython3",
   "version": "3.6.4"
  }
 },
 "nbformat": 4,
 "nbformat_minor": 1
}
