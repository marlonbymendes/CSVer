{
 "cells": [
  {
   "cell_type": "code",
   "execution_count": 27,
   "metadata": {},
   "outputs": [
    {
     "data": {
      "text/plain": [
       "<matplotlib.figure.Figure at 0x7f3127826748>"
      ]
     },
     "execution_count": 0,
     "metadata": {},
     "output_type": "execute_result"
    },
    {
     "data": {
      "image/png": "[encoded data removed]",
      "text/plain": [
       "<matplotlib.figure.Figure at 0x7f3127826630>"
      ]
     },
     "metadata": {},
     "output_type": "display_data"
    }
   ],
   "source": [
    "import matplotlib\n",
    "import matplotlib.pyplot as plt\n",
    "from IPython.display import display\n",
    "\n",
    "from csver import CSVer\n",
    "from datetime import datetime\n",
    "\n",
    "import warnings\n",
    "import matplotlib.cbook\n",
    "\n",
    "warnings.filterwarnings(\"ignore\",category=matplotlib.cbook.mplDeprecation)\n",
    "\n",
    "class Plotter:\n",
    "\n",
    "    def plot_histogram(self, y_axis, x_label = '', y_label = '', title = ''):\n",
    "        fig = plt.figure()\n",
    "        ax = fig.add_subplot(1,1,1)\n",
    "        self.set_plot_style(x_label, y_label, title)\n",
    "        \n",
    "        result = plt.hist(y_axis, bins = 'fd', color = 'blue',\n",
    "                          edgecolor = 'black', alpha = .75)\n",
    "        return result\n",
    "    \n",
    "    def set_plot_style(self, x_label, y_label, title):\n",
    "        plt.xlabel(x_label)\n",
    "        plt.ylabel(y_label)\n",
    "        plt.title(title)\n",
    "    \n",
    "    def get_date_axis_from_array(self, dates):\n",
    "        dates_date_time = [datetime.strptime(d, CSVer.DATE_INPUT_FORMAT) for d in dates]\n",
    "        dates_axis = matplotlib.dates.date2num(dates_date_time)\n",
    "        return dates_axis\n",
    "        \n",
    "    def plot_scatter_along_time(self, x_axis, y_axis, x_label = '',\n",
    "                               y_label = '', title = '', subplot = 111,\n",
    "                     figure = None):\n",
    "        if figure is None:\n",
    "            figure = plt.figure()\n",
    "            \n",
    "        hfmt = matplotlib.dates.DateFormatter(CSVer.DATE_GRAPH_FORMAT)\n",
    "        ax = figure.add_subplot(subplot)\n",
    "        ax.xaxis.set_major_formatter(hfmt)\n",
    "        plt.setp(ax.get_xticklabels(), rotation=15)\n",
    "        plt.scatter(x_axis, y_axis, s = 50, c = 'blue', alpha = 0.25)\n",
    "        \n",
    "        self.set_plot_style(x_label, y_label, title)\n",
    "\n",
    "        ax = figure.add_subplot(1,2,2)\n",
    "        ax.xaxis.set_major_formatter(hfmt)\n",
    "        plt.setp(ax.get_xticklabels(), rotation=15)\n",
    "        plt.semilogy(x_axis, y_axis, '.')\n",
    "        self.set_plot_style(x_label, y_label, title)\n",
    "        \n",
    "    \n",
    "    def plot_log_along_time(self, x_axis, y_axis, x_label = '', y_label = '',\n",
    "                 title = '', subplot = 111, figure = None):\n",
    "        if figure is None:\n",
    "            figure = plt.figure()\n",
    "        \n",
    "        hfmt = matplotlib.dates.DateFormatter(CSVer.DATE_GRAPH_FORMAT)    \n",
    "        ax = figure.add_subplot(1,2,2)\n",
    "        ax.xaxis.set_major_formatter(hfmt)\n",
    "        plt.setp(ax.get_xticklabels(), rotation=15)\n",
    "        plt.semilogy(x_axis, y_axis, '.')\n",
    "        self.set_plot_style(x_label, y_label, title)\n",
    "    \n",
    "    def plot_scatter_log_along_time(self, x_axis, y_axis, x_label = '',\n",
    "                                    y_label = '', title = ''):\n",
    "        figure = plt.figure()\n",
    "        self.plot_scatter_along_time(x_axis, y_axis, x_label, y_label,\n",
    "                                     title, subplot = 121,\n",
    "                                     figure = figure)\n",
    "        self.plot_log_along_time(x_axis, y_axis, x_label, y_label,\n",
    "                                 title, subplot = 122,\n",
    "                                 figure = figure)\n",
    "        \n",
    "    def show(self):\n",
    "        plt.show()\n",
    "        \n",
    "approved = 'aprovado_small.csv'\n",
    "csvs = [approved]\n",
    "\n",
    "csver = CSVer(csvs)\n",
    "item = csver.get_random_item('Item')\n",
    "dt = csver.filter_column_by_value('Item', item)\n",
    "x, y = csver.get_x_y('Data', 'ValorUnitarioAprovado', ('Item', item))\n",
    "\n",
    "figure = plt.figure()\n",
    "plotter = Plotter()\n",
    "arr = plotter.get_date_axis_from_array(x)\n",
    "\n",
    "plotter.plot_scatter_log_along_time(arr, y, 'Data', 'ValorUnitario',\n",
    "                                    item)"
   ]
  }
 ],
 "metadata": {
  "kernelspec": {
   "display_name": "Python 3",
   "language": "python",
   "name": "python3"
  },
  "language_info": {
   "codemirror_mode": {
    "name": "ipython",
    "version": 3
   },
   "file_extension": ".py",
   "mimetype": "text/x-python",
   "name": "python",
   "nbconvert_exporter": "python",
   "pygments_lexer": "ipython3",
   "version": "3.6.4"
  }
 },
 "nbformat": 4,
 "nbformat_minor": 2
}
