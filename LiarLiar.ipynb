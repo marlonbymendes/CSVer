{
 "cells": [
  {
   "cell_type": "code",
   "execution_count": 29,
   "metadata": {
    "scrolled": true
   },
   "outputs": [
    {
     "data": {
      "image/png": "[encoded data removed]",
      "text/plain": [
       "<Figure size 576x144 with 1 Axes>"
      ]
     },
     "metadata": {},
     "output_type": "display_data"
    }
   ],
   "source": [
    "# %load find_outliers.py\n",
    "from csver import CSVer\n",
    "from plotter import Plotter\n",
    "from IPython.display import display\n",
    "from sklearn.neighbors import LocalOutlierFactor\n",
    "\n",
    "import matplotlib.pyplot as plt\n",
    "import numpy as np\n",
    "import pandas as pd\n",
    "import matplotlib.patches as mpatches\n",
    "\n",
    "pd.options.mode.chained_assignment = None\n",
    "\n",
    "class FindOutliers:\n",
    "\n",
    "    def __init__(self, training_data):\n",
    "        self.training_data = training_data\n",
    "\n",
    "    def train_1d(self):\n",
    "        self.lof = LocalOutlierFactor()\n",
    "      \n",
    "        data_1d = self.training_data.reshape(-1, 1)\n",
    "        self.lof_labels = self.lof.fit_predict(data_1d)\n",
    "        return self.lof_labels\n",
    "    \n",
    "    def train(self):\n",
    "        if self.is_data_1d():\n",
    "            return self.train_1d()\n",
    "        self.lof = LocalOutlierFactor()\n",
    "    \n",
    "    def is_data_1d(self):\n",
    "        dimension = self.training_data.ndim\n",
    "        return dimension == 1\n",
    "    \n",
    "    def plot_inliers_outliers_1d(self, item, data, labels):\n",
    "        inliers = data[labels == 1]\n",
    "        outliers = data[labels == -1]\n",
    "        \n",
    "        plt.figure(figsize=(8, 2))\n",
    "        plt.plot(inliers, np.zeros_like(inliers), 'g.', markersize = 30, alpha = 0.5)\n",
    "        plt.plot(outliers, np.zeros_like(outliers), 'r.', markersize = 30, alpha = 0.5)\n",
    "        plt.xscale('log')\n",
    "        plt.xlabel('Preço unitário')\n",
    "        red_patch = mpatches.Patch(color='red', label='Outlier')\n",
    "        green_patch = mpatches.Patch(color='green', label='Inlier')\n",
    "        plt.legend(handles=[red_patch, green_patch])\n",
    "        plt.title(item)\n",
    "        plt.yticks([])\n",
    "        plt.show()\n",
    "        \n",
    "    def get_xy(self, data, price_column):\n",
    "        return (data['Data'].values,\n",
    "                data[price_column].values)\n",
    "        \n",
    "    def plot_inliers_outliers(self, data, labels, price_column):\n",
    "        if self.is_data_1d():\n",
    "            return self.plot_inliers_outliers_1d(data, labels)\n",
    "        \n",
    "        inliers = data[labels == 1]\n",
    "        outliers = data[labels == -1]\n",
    "        \n",
    "        x1, y1 = self.get_xy(outliers, price_column)\n",
    "        x2, y2 = self.get_xy(inliers, price_column)\n",
    "\n",
    "        fig = plt.figure()\n",
    "        plotter = Plotter()\n",
    "\n",
    "        red_patch = mpatches.Patch(color='red', label='Solicitado')\n",
    "        green_patch = mpatches.Patch(color='green', label='Aprovado')\n",
    "        plt.legend(handles=[red_patch, green_patch])\n",
    "\n",
    "        plotter.plot_log_along_time(x1, y1, '.r', figure=fig)\n",
    "        plotter.plot_log_along_time(x2, y2, '.g', 'Data (dia/mes/ano)',\n",
    "                                    'Custo Unitário (R$)', item,\n",
    "                                    figure=fig)\n",
    "        plotter.show()\n",
    "    \n",
    "    def find_outliers_by_price_only(self, prices):\n",
    "        find_outliers = FindOutliers(prices)\n",
    "        pred = find_outliers.train()\n",
    "        return (prices, pred)\n",
    "    \n",
    "    def find_outliers_price_data(self, data, price_column):\n",
    "        xy = data[['Data', price_column]]\n",
    "        xy['Data'] = CSVer.get_date_axis_from_array(None, xy.Data)\n",
    "        \n",
    "        lof = LocalOutlierFactor()\n",
    "        labels = lof.fit_predict(xy)\n",
    "        return (xy, labels)\n",
    "    \n",
    "\n",
    "csv_names = ['aprovado_small.csv']\n",
    "csver = CSVer(csv_names)\n",
    "\n",
    "while True:\n",
    "    \n",
    "    item = csver.get_random_item('Item')\n",
    "    rows = csver.filter_column_by_value('Item', item)\n",
    "    if len(rows) < 25:\n",
    "        continue\n",
    "    \n",
    "    fo = FindOutliers(rows)\n",
    "    rows = csver.filter_column_by_value('Item', item)\n",
    "    prices = rows['ValorUnitarioAprovado'].values\n",
    "    \n",
    "    data, labels = fo.find_outliers_by_price_only(prices)\n",
    "    fo.plot_inliers_outliers_1d(item, data, labels)\n",
    "    \n",
    "    # plotter = Plotter()\n",
    "    # plotter.plot_histogram(prices, 'Price range', 'Frequency', item)\n",
    "    break"
   ]
  },
  {
   "cell_type": "code",
   "execution_count": 30,
   "metadata": {},
   "outputs": [],
   "source": [
    ""
   ]
  },
  {
   "cell_type": "code",
   "execution_count": 30,
   "metadata": {},
   "outputs": [],
   "source": [
    ""
   ]
  },
  {
   "cell_type": "code",
   "execution_count": 30,
   "metadata": {},
   "outputs": [],
   "source": [
    ""
   ]
  }
 ],
 "metadata": {
  "kernelspec": {
   "display_name": "Python 3",
   "language": "python",
   "name": "python3"
  },
  "language_info": {
   "codemirror_mode": {
    "name": "ipython",
    "version": 3
   },
   "file_extension": ".py",
   "mimetype": "text/x-python",
   "name": "python",
   "nbconvert_exporter": "python",
   "pygments_lexer": "ipython3",
   "version": "3.6.4"
  }
 },
 "nbformat": 4,
 "nbformat_minor": 0
}
